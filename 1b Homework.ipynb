{
 "cells": [
  {
   "cell_type": "markdown",
   "id": "39b91944-b465-41f2-b7c2-1d94ee927304",
   "metadata": {},
   "source": [
    "# Descriptive Statistics"
   ]
  },
  {
   "cell_type": "markdown",
   "id": "f8d39ff1-490e-4110-9ff1-8880fdba895c",
   "metadata": {},
   "source": [
    "### Homework"
   ]
  },
  {
   "cell_type": "markdown",
   "id": "e5aac0b8-67cf-496d-8b82-d7a2910ef36b",
   "metadata": {},
   "source": [
    "Before you begin, remember to import the necessary libraries."
   ]
  },
  {
   "cell_type": "code",
   "execution_count": 11,
   "id": "33de4fa0-4c6b-412e-9d31-b60b777ec39a",
   "metadata": {},
   "outputs": [],
   "source": [
    "import numpy as np\n",
    "import pandas as pd\n",
    "import seaborn as sns\n",
    "from scipy import stats"
   ]
  },
  {
   "cell_type": "markdown",
   "id": "a6be9786-ed96-4ab6-bf58-711b6fcef982",
   "metadata": {},
   "source": [
    "#### Standard Exercises"
   ]
  },
  {
   "cell_type": "markdown",
   "id": "d599a7c3-5c90-4638-8fdd-79f33216defa",
   "metadata": {},
   "source": [
    "1. Import the `planets` dataset via the `seaborn` library and assign it to an object named `df`."
   ]
  },
  {
   "cell_type": "code",
   "execution_count": 17,
   "id": "b1ceca91-a673-41e4-8062-12b80bbe00ae",
   "metadata": {},
   "outputs": [
    {
     "data": {
      "text/plain": [
       "227"
      ]
     },
     "execution_count": 17,
     "metadata": {},
     "output_type": "execute_result"
    }
   ],
   "source": [
    "df = sns.load_dataset(\"planets\")"
   ]
  },
  {
   "cell_type": "markdown",
   "id": "8164c5af-bc2e-46b9-b482-dee24d761eb2",
   "metadata": {},
   "source": [
    "2. Compute the **mode**, **mean** and **median** of the `distance` variable in the `df` dataframe. *Note: use the `np.nanmean()` and `np.nanmedian()` function to ignore NaN values*"
   ]
  },
  {
   "cell_type": "code",
   "execution_count": 15,
   "id": "037d344b",
   "metadata": {},
   "outputs": [
    {
     "name": "stdout",
     "output_type": "stream",
     "text": [
      "count     808.000000\n",
      "mean      264.069282\n",
      "std       733.116493\n",
      "min         1.350000\n",
      "25%        32.560000\n",
      "50%        55.250000\n",
      "75%       178.500000\n",
      "max      8500.000000\n",
      "Name: distance, dtype: float64\n",
      "<class 'pandas.core.series.Series'>\n",
      "RangeIndex: 1035 entries, 0 to 1034\n",
      "Series name: distance\n",
      "Non-Null Count  Dtype  \n",
      "--------------  -----  \n",
      "808 non-null    float64\n",
      "dtypes: float64(1)\n",
      "memory usage: 8.2 KB\n",
      "None\n"
     ]
    }
   ],
   "source": [
    "print(df[\"distance\"].describe())\n",
    "print(df[\"distance\"].info())"
   ]
  },
  {
   "cell_type": "code",
   "execution_count": 51,
   "id": "e3a607f7-d949-405c-9843-65896fcc0ff3",
   "metadata": {},
   "outputs": [
    {
     "name": "stdout",
     "output_type": "stream",
     "text": [
      "264.0692821782178\n",
      "55.25\n",
      "ModeResult(mode=780.0, count=7)\n"
     ]
    }
   ],
   "source": [
    "s = df[\"distance\"].dropna()\n",
    "mean = np.nanmean(s)\n",
    "median = np.nanmedian(s)\n",
    "mode = stats.mode(s)\n",
    "\n",
    "print(mean)\n",
    "print(median)\n",
    "print(mode)"
   ]
  },
  {
   "cell_type": "markdown",
   "id": "ac167d16-b00e-4ff1-8d4b-18f548e28f5f",
   "metadata": {},
   "source": [
    "3. Create a new DataFrame having the following specs: \n",
    "- its name is `df_stats` \n",
    "- it has shape `(1, 5)`\n",
    "- populate it with the following columns `['min', 'mode', 'mean', 'median', 'max']`\n",
    "- use the data from the `distance` column in the `df` dataset"
   ]
  },
  {
   "cell_type": "code",
   "execution_count": 50,
   "id": "f39e606e-e008-468c-a000-3005f4fa3ded",
   "metadata": {},
   "outputs": [
    {
     "data": {
      "text/html": [
       "<div>\n",
       "<style scoped>\n",
       "    .dataframe tbody tr th:only-of-type {\n",
       "        vertical-align: middle;\n",
       "    }\n",
       "\n",
       "    .dataframe tbody tr th {\n",
       "        vertical-align: top;\n",
       "    }\n",
       "\n",
       "    .dataframe thead th {\n",
       "        text-align: right;\n",
       "    }\n",
       "</style>\n",
       "<table border=\"1\" class=\"dataframe\">\n",
       "  <thead>\n",
       "    <tr style=\"text-align: right;\">\n",
       "      <th></th>\n",
       "      <th>min</th>\n",
       "      <th>mode</th>\n",
       "      <th>mean</th>\n",
       "      <th>median</th>\n",
       "      <th>max</th>\n",
       "    </tr>\n",
       "  </thead>\n",
       "  <tbody>\n",
       "    <tr>\n",
       "      <th>0</th>\n",
       "      <td>1.35</td>\n",
       "      <td>780.0</td>\n",
       "      <td>264.069282</td>\n",
       "      <td>55.25</td>\n",
       "      <td>8500.0</td>\n",
       "    </tr>\n",
       "  </tbody>\n",
       "</table>\n",
       "</div>"
      ],
      "text/plain": [
       "    min   mode        mean median     max\n",
       "0  1.35  780.0  264.069282  55.25  8500.0"
      ]
     },
     "execution_count": 50,
     "metadata": {},
     "output_type": "execute_result"
    }
   ],
   "source": [
    "df_stats = pd.DataFrame(index=range(1), columns=range(5))\n",
    "df_stats.columns = [\"min\", \"mode\", \"mean\", \"median\", \"max\"]\n",
    "df_stats.iloc[0] = [np.min(s), mode.mode, mean, median, np.max(s)]\n",
    "df_stats"
   ]
  },
  {
   "cell_type": "markdown",
   "id": "2217cf51-4b90-43e1-adb9-8307086405bf",
   "metadata": {},
   "source": [
    "4. Given the DataFrame you just created, try to imagine (without the aid of a chart) how the data may be distributed. You can probably tell quite a bit, but you still need some information about its dispersion or variability. Add three more columns to the `df_stats` DataFrame `['range', 'iqr', 'stdev']` that show the variable's **range**, **interquartile range** and **standart deviation**. *Note: make sure you select the appropriate `nan_policy` and `ddof` for the `stats.iqr()` and `np.std()` functions, respectively*"
   ]
  },
  {
   "cell_type": "code",
   "execution_count": 60,
   "id": "f5b62a6f-089b-4fb0-b805-3ee1b2bfe803",
   "metadata": {},
   "outputs": [
    {
     "data": {
      "text/html": [
       "<div>\n",
       "<style scoped>\n",
       "    .dataframe tbody tr th:only-of-type {\n",
       "        vertical-align: middle;\n",
       "    }\n",
       "\n",
       "    .dataframe tbody tr th {\n",
       "        vertical-align: top;\n",
       "    }\n",
       "\n",
       "    .dataframe thead th {\n",
       "        text-align: right;\n",
       "    }\n",
       "</style>\n",
       "<table border=\"1\" class=\"dataframe\">\n",
       "  <thead>\n",
       "    <tr style=\"text-align: right;\">\n",
       "      <th></th>\n",
       "      <th>min</th>\n",
       "      <th>mode</th>\n",
       "      <th>mean</th>\n",
       "      <th>median</th>\n",
       "      <th>max</th>\n",
       "      <th>range</th>\n",
       "      <th>iqr</th>\n",
       "      <th>stdev</th>\n",
       "    </tr>\n",
       "  </thead>\n",
       "  <tbody>\n",
       "    <tr>\n",
       "      <th>0</th>\n",
       "      <td>1.35</td>\n",
       "      <td>780.0</td>\n",
       "      <td>264.069282</td>\n",
       "      <td>55.25</td>\n",
       "      <td>8500.0</td>\n",
       "      <td>8498.65</td>\n",
       "      <td>145.94</td>\n",
       "      <td>733.116493</td>\n",
       "    </tr>\n",
       "  </tbody>\n",
       "</table>\n",
       "</div>"
      ],
      "text/plain": [
       "    min   mode        mean median     max    range     iqr       stdev\n",
       "0  1.35  780.0  264.069282  55.25  8500.0  8498.65  145.94  733.116493"
      ]
     },
     "execution_count": 60,
     "metadata": {},
     "output_type": "execute_result"
    }
   ],
   "source": [
    "df_stats[\"range\"] = np.max(s) - np.min(s)\n",
    "df_stats[\"iqr\"] = stats.iqr(s, rng=[25, 75])\n",
    "df_stats[\"stdev\"] = np.std(s, ddof=1)\n",
    "df_stats"
   ]
  },
  {
   "cell_type": "markdown",
   "id": "4de70aa4-84cf-4cc5-aec0-5062586e7841",
   "metadata": {},
   "source": [
    "5. The `sns.stripplot()` function allows you to perform a first visual check on the distribution of continuous variables. Check out the [relative documentation](https://seaborn.pydata.org/generated/seaborn.stripplot.html) and draw a **stripplot** just for the `distance` variable. Did it match your expectations from the previous question? "
   ]
  },
  {
   "cell_type": "code",
   "execution_count": 57,
   "id": "1971b86a-b296-459c-b018-86ac9ff57eda",
   "metadata": {},
   "outputs": [
    {
     "data": {
      "text/plain": [
       "<Axes: >"
      ]
     },
     "execution_count": 57,
     "metadata": {},
     "output_type": "execute_result"
    },
    {
     "data": {
      "image/png": "[encoded data removed]",
      "text/plain": [
       "<Figure size 640x480 with 1 Axes>"
      ]
     },
     "metadata": {},
     "output_type": "display_data"
    }
   ],
   "source": [
    "sns.stripplot(df_stats)"
   ]
  },
  {
   "cell_type": "markdown",
   "id": "0fce34ee-2b9a-4c2b-b371-7d7efbc11b92",
   "metadata": {},
   "source": [
    "6. Write a function `my_median()` that, given a dataframe `df` and a column name `col` as inputs, returns the corresponding **median** value. If the input data contains NaN values, the function should be able to handle them by ignoring them. *Hint: check out the `.dropna()` method*"
   ]
  },
  {
   "cell_type": "code",
   "execution_count": 58,
   "id": "c7333b70-35be-4301-80da-99d3bfd93fac",
   "metadata": {},
   "outputs": [],
   "source": [
    "def my_median(df, col):\n",
    "\treturn np.median(df[col].dropna())"
   ]
  },
  {
   "cell_type": "markdown",
   "id": "d6d794ca-886c-41dc-ae08-fe75bac8eef2",
   "metadata": {},
   "source": [
    "#### Advanced Exercises"
   ]
  },
  {
   "cell_type": "markdown",
   "id": "ea893cad-cb51-40f2-8c9e-aa5a7eac59f4",
   "metadata": {},
   "source": [
    "1. Write a function `my_stdev()` that, given a dataframe `df` and a column name `col` as inputs, returns the corresponding **standard deviation** value. If the input data contains NaN values, the function should be able to handle them by ignoring them."
   ]
  },
  {
   "cell_type": "code",
   "execution_count": 59,
   "id": "f7c0be70-3dd9-48a5-b979-b4a529222168",
   "metadata": {},
   "outputs": [],
   "source": [
    "def my_stdev(df, col):\n",
    "\treturn np.std(df[col].dropna())"
   ]
  },
  {
   "cell_type": "markdown",
   "id": "499a8e30-5e5e-482a-88d6-a4a78a932a33",
   "metadata": {},
   "source": [
    "2. Write a function `my_stat()` that, given a dataframe `df`, a column name `col` and a statistic parameter `stat` as inputs, returns the corresponding desired statistic as chosen by the user from these four possible options: `['mean', 'median', 'iqr', 'stdev']`. If the input data contains NaN values, the function should be able to handle them by ignoring them."
   ]
  },
  {
   "cell_type": "code",
   "execution_count": 83,
   "id": "57af9ae2-06bb-499a-8173-385ad634ff91",
   "metadata": {},
   "outputs": [],
   "source": [
    "def my_stat(df, col, stat):\n",
    "\tif stat not in [\"mean\", \"median\", \"iqr\", \"stdev\"]:\n",
    "\t\traise ValueError\n",
    "\n",
    "\tclean_column = df[col].dropna()\n",
    "\n",
    "\tif stat == \"mean\":\n",
    "\t\treturn np.mean(clean_column)\n",
    "\n",
    "\tif stat == \"median\":\n",
    "\t\treturn np.median(clean_column)\n",
    "\n",
    "\tif stat == \"iqr\":\n",
    "\t\treturn stats.iqr(clean_column, rng=[25, 75])\n",
    "\n",
    "\treturn np.std(clean_column, ddof=1)"
   ]
  },
  {
   "cell_type": "markdown",
   "id": "8300841a-6050-4e28-a671-c912181b0665",
   "metadata": {},
   "source": [
    "3. Load up the `iris` dataset via `seaborn` and assign it to a DataFrame object with the same name. Then, using `iris.describe()`, check out all the different statistics available for the four countinuos variables in the dataset. Once you have familiarised yourself with the [differences between sepals and petals](https://biologyreader.com/difference-between-sepals-and-petals.html): \n",
    "    1. assign the output table of the `iris.describe()` statement to a new DF object named `iris_stats` \n",
    "    2. add a new **row** to the DataFrame with index `iqr` and compute the IQR for eacn column of the DF\n",
    "    3. study the table and try to visualise the shape of the data according to its measures of central tendency and statistical dispersion; what can you say about the shape of this data? *(hint: feel free to select just a relevant subset of statistics from the `iris_stats` DataFrame)*\n",
    "    4. visualising sets of data in your head is no joke (although it is a useful exercise!); now visualize all four numeric variables from the `iris` dataset in the same plot using the `sns.stripplot()` function; did it match your expectations from the previous question? "
   ]
  },
  {
   "cell_type": "code",
   "execution_count": 93,
   "id": "5f564ba2-91e3-471d-9637-f40b47097069",
   "metadata": {},
   "outputs": [],
   "source": [
    "iris = sns.load_dataset(\"iris\")\n",
    "iris_stats = iris.describe()"
   ]
  },
  {
   "cell_type": "code",
   "execution_count": 96,
   "id": "a7047836-bc6e-439d-8a61-eef237a2ec82",
   "metadata": {},
   "outputs": [
    {
     "name": "stdout",
     "output_type": "stream",
     "text": [
      "                sepal_length  sepal_width  petal_length  petal_width\n",
      "count             150.000000   150.000000    150.000000   150.000000\n",
      "mean                5.843333     3.057333      3.758000     1.199333\n",
      "std                 0.828066     0.435866      1.765298     0.762238\n",
      "min                 4.300000     2.000000      1.000000     0.100000\n",
      "25%                 5.100000     2.800000      1.600000     0.300000\n",
      "50%                 5.800000     3.000000      4.350000     1.300000\n",
      "75%                 6.400000     3.300000      5.100000     1.800000\n",
      "max                 7.900000     4.400000      6.900000     2.500000\n",
      "iqr                 1.300000     0.500000      3.500000     1.500000\n",
      "outliers above      7.750000     3.750000      9.600000     3.550000\n",
      "outliers below      3.850000     2.250000     -0.900000    -0.950000\n"
     ]
    }
   ],
   "source": [
    "for column in iris_stats.columns:\n",
    "\tiris_stats.loc[\"iqr\", column] = my_stat(iris, column, \"iqr\")\n",
    "\tiris_stats.loc[\"outliers below\", column] = iris_stats.loc[\"50%\", column] - 1.5 *  iris_stats.loc[\"iqr\", column]\n",
    "\tiris_stats.loc[\"outliers above\", column] = iris_stats.loc[\"50%\", column] + 1.5 *  iris_stats.loc[\"iqr\", column]\n",
    "\n",
    "print(iris_stats)"
   ]
  },
  {
   "cell_type": "markdown",
   "id": "9ad59981",
   "metadata": {},
   "source": [
    "Petal length has the widest range of values (indicated by the biggest interquartile range). Sepal length seem to have a few outliers on the upper end (50% value == median + 1.5 * iqr is lower than the max value).\n",
    "the series data for petal length (distribution-wise) seems to be slightly skewed toward more distribution of values in lower half"
   ]
  },
  {
   "cell_type": "code",
   "execution_count": 98,
   "id": "f5b6a251-1eb1-45f7-90c5-91573d9dfee3",
   "metadata": {},
   "outputs": [
    {
     "data": {
      "text/plain": [
       "<Axes: >"
      ]
     },
     "execution_count": 98,
     "metadata": {},
     "output_type": "execute_result"
    },
    {
     "data": {
      "image/png": "[encoded data removed]",
      "text/plain": [
       "<Figure size 640x480 with 1 Axes>"
      ]
     },
     "metadata": {},
     "output_type": "display_data"
    }
   ],
   "source": [
    "sns.stripplot(iris)"
   ]
  },
  {
   "cell_type": "code",
   "execution_count": 99,
   "id": "ac9fe9fc-c30b-4a6a-8cb8-b65f9f72fe80",
   "metadata": {},
   "outputs": [
    {
     "data": {
      "text/plain": [
       "<Axes: >"
      ]
     },
     "execution_count": 99,
     "metadata": {},
     "output_type": "execute_result"
    },
    {
     "data": {
      "image/png": "[encoded data removed]",
      "text/plain": [
       "<Figure size 640x480 with 1 Axes>"
      ]
     },
     "metadata": {},
     "output_type": "display_data"
    }
   ],
   "source": [
    "sns.boxplot(iris)"
   ]
  },
  {
   "cell_type": "code",
   "execution_count": 105,
   "id": "ec752dad",
   "metadata": {},
   "outputs": [
    {
     "data": {
      "text/plain": [
       "<Axes: ylabel='Count'>"
      ]
     },
     "execution_count": 105,
     "metadata": {},
     "output_type": "execute_result"
    },
    {
     "data": {
      "image/png": "[encoded data removed]",
      "text/plain": [
       "<Figure size 640x480 with 1 Axes>"
      ]
     },
     "metadata": {},
     "output_type": "display_data"
    }
   ],
   "source": [
    "sns.histplot(iris[[\"petal_length\", \"petal_width\"]])"
   ]
  },
  {
   "cell_type": "code",
   "execution_count": 107,
   "id": "6c01b6c2",
   "metadata": {},
   "outputs": [
    {
     "data": {
      "text/plain": [
       "<Axes: ylabel='Count'>"
      ]
     },
     "execution_count": 107,
     "metadata": {},
     "output_type": "execute_result"
    },
    {
     "data": {
      "image/png": "[encoded data removed]",
      "text/plain": [
       "<Figure size 640x480 with 1 Axes>"
      ]
     },
     "metadata": {},
     "output_type": "display_data"
    }
   ],
   "source": [
    "sns.histplot(iris[[\"sepal_length\", \"sepal_width\"]])"
   ]
  },
  {
   "cell_type": "markdown",
   "id": "89e07827",
   "metadata": {},
   "source": [
    "correct predictions:\n",
    "- Petal length has the widest range of values\n",
    "- the series data for petal length (distribution-wise) seems to be slightly skewed toward more distribution of values in lower half\n",
    "\n",
    "incorrect:\n",
    "- Sepal length seem to have a few outliers on the upper end (50% value == median + 1.5 * iqr is lower than the max value)."
   ]
  }
 ],
 "metadata": {
  "kernelspec": {
   "display_name": "Python 3 (ipykernel)",
   "language": "python",
   "name": "python3"
  },
  "language_info": {
   "codemirror_mode": {
    "name": "ipython",
    "version": 3
   },
   "file_extension": ".py",
   "mimetype": "text/x-python",
   "name": "python",
   "nbconvert_exporter": "python",
   "pygments_lexer": "ipython3",
   "version": "3.12.4"
  }
 },
 "nbformat": 4,
 "nbformat_minor": 5
}
